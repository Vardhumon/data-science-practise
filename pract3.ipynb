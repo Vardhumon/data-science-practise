{
 "cells": [
  {
   "cell_type": "code",
   "execution_count": 1,
   "id": "d6e32be5-4843-4fd5-a605-e6d0078c003d",
   "metadata": {},
   "outputs": [],
   "source": [
    "import matplotlib.pyplot as plt\n",
    "import pandas as pd\n",
    "import numpy as np"
   ]
  },
  {
   "cell_type": "code",
   "execution_count": 2,
   "id": "91ae87c1-d11d-4b49-9ce9-97b5e09b58b2",
   "metadata": {
    "scrolled": true
   },
   "outputs": [],
   "source": [
    "db=\"company_employee_details-p3.csv\""
   ]
  },
  {
   "cell_type": "code",
   "execution_count": 3,
   "id": "0ab17f01-aeec-4f5a-80f0-f825db9044f2",
   "metadata": {},
   "outputs": [],
   "source": [
    "df=pd.read_csv(db)"
   ]
  },
  {
   "cell_type": "code",
   "execution_count": 4,
   "id": "ad3700ef-fb57-4c34-b97f-309621d4aa30",
   "metadata": {},
   "outputs": [
    {
     "data": {
      "text/html": [
       "<div>\n",
       "<style scoped>\n",
       "    .dataframe tbody tr th:only-of-type {\n",
       "        vertical-align: middle;\n",
       "    }\n",
       "\n",
       "    .dataframe tbody tr th {\n",
       "        vertical-align: top;\n",
       "    }\n",
       "\n",
       "    .dataframe thead th {\n",
       "        text-align: right;\n",
       "    }\n",
       "</style>\n",
       "<table border=\"1\" class=\"dataframe\">\n",
       "  <thead>\n",
       "    <tr style=\"text-align: right;\">\n",
       "      <th></th>\n",
       "      <th>sr_no</th>\n",
       "      <th>company</th>\n",
       "      <th>department</th>\n",
       "      <th>employee_id</th>\n",
       "      <th>age</th>\n",
       "      <th>age_when_joined</th>\n",
       "      <th>years_in_the_company</th>\n",
       "      <th>salary</th>\n",
       "      <th>annual_bonus</th>\n",
       "      <th>prior_years_experience</th>\n",
       "      <th>full_time</th>\n",
       "      <th>part_time</th>\n",
       "      <th>contractor</th>\n",
       "    </tr>\n",
       "  </thead>\n",
       "  <tbody>\n",
       "    <tr>\n",
       "      <th>0</th>\n",
       "      <td>0</td>\n",
       "      <td>Glasses</td>\n",
       "      <td>BigData</td>\n",
       "      <td>16</td>\n",
       "      <td>41</td>\n",
       "      <td>38</td>\n",
       "      <td>3</td>\n",
       "      <td>68074.97135</td>\n",
       "      <td>17664.10410</td>\n",
       "      <td>3</td>\n",
       "      <td>0.000000</td>\n",
       "      <td>0.000000</td>\n",
       "      <td>1.000000</td>\n",
       "    </tr>\n",
       "    <tr>\n",
       "      <th>1</th>\n",
       "      <td>1</td>\n",
       "      <td>Glasses</td>\n",
       "      <td>AI</td>\n",
       "      <td>56</td>\n",
       "      <td>44</td>\n",
       "      <td>42</td>\n",
       "      <td>2</td>\n",
       "      <td>49092.14746</td>\n",
       "      <td>21551.14108</td>\n",
       "      <td>2</td>\n",
       "      <td>0.000000</td>\n",
       "      <td>0.184991</td>\n",
       "      <td>1.000000</td>\n",
       "    </tr>\n",
       "    <tr>\n",
       "      <th>2</th>\n",
       "      <td>2</td>\n",
       "      <td>Cheerper</td>\n",
       "      <td>Support</td>\n",
       "      <td>59</td>\n",
       "      <td>41</td>\n",
       "      <td>40</td>\n",
       "      <td>1</td>\n",
       "      <td>40000.00000</td>\n",
       "      <td>23698.87885</td>\n",
       "      <td>2</td>\n",
       "      <td>0.000000</td>\n",
       "      <td>0.919887</td>\n",
       "      <td>0.662706</td>\n",
       "    </tr>\n",
       "    <tr>\n",
       "      <th>3</th>\n",
       "      <td>3</td>\n",
       "      <td>Glasses</td>\n",
       "      <td>Design</td>\n",
       "      <td>40</td>\n",
       "      <td>39</td>\n",
       "      <td>32</td>\n",
       "      <td>7</td>\n",
       "      <td>108192.46550</td>\n",
       "      <td>21570.92966</td>\n",
       "      <td>1</td>\n",
       "      <td>0.930396</td>\n",
       "      <td>0.546206</td>\n",
       "      <td>0.000000</td>\n",
       "    </tr>\n",
       "    <tr>\n",
       "      <th>4</th>\n",
       "      <td>4</td>\n",
       "      <td>Glasses</td>\n",
       "      <td>Search Engine</td>\n",
       "      <td>47</td>\n",
       "      <td>30</td>\n",
       "      <td>22</td>\n",
       "      <td>9</td>\n",
       "      <td>71291.19113</td>\n",
       "      <td>21565.50572</td>\n",
       "      <td>2</td>\n",
       "      <td>0.525432</td>\n",
       "      <td>0.938412</td>\n",
       "      <td>0.000000</td>\n",
       "    </tr>\n",
       "    <tr>\n",
       "      <th>...</th>\n",
       "      <td>...</td>\n",
       "      <td>...</td>\n",
       "      <td>...</td>\n",
       "      <td>...</td>\n",
       "      <td>...</td>\n",
       "      <td>...</td>\n",
       "      <td>...</td>\n",
       "      <td>...</td>\n",
       "      <td>...</td>\n",
       "      <td>...</td>\n",
       "      <td>...</td>\n",
       "      <td>...</td>\n",
       "      <td>...</td>\n",
       "    </tr>\n",
       "    <tr>\n",
       "      <th>4995</th>\n",
       "      <td>4995</td>\n",
       "      <td>Cheerper</td>\n",
       "      <td>Search Engine</td>\n",
       "      <td>37</td>\n",
       "      <td>42</td>\n",
       "      <td>35</td>\n",
       "      <td>7</td>\n",
       "      <td>76541.84150</td>\n",
       "      <td>17366.89612</td>\n",
       "      <td>2</td>\n",
       "      <td>0.269842</td>\n",
       "      <td>0.691977</td>\n",
       "      <td>0.038156</td>\n",
       "    </tr>\n",
       "    <tr>\n",
       "      <th>4996</th>\n",
       "      <td>4996</td>\n",
       "      <td>Glasses</td>\n",
       "      <td>AI</td>\n",
       "      <td>1</td>\n",
       "      <td>36</td>\n",
       "      <td>25</td>\n",
       "      <td>9</td>\n",
       "      <td>113651.48510</td>\n",
       "      <td>20888.14479</td>\n",
       "      <td>1</td>\n",
       "      <td>0.356024</td>\n",
       "      <td>0.098686</td>\n",
       "      <td>0.545462</td>\n",
       "    </tr>\n",
       "    <tr>\n",
       "      <th>4997</th>\n",
       "      <td>4997</td>\n",
       "      <td>Glasses</td>\n",
       "      <td>Search Engine</td>\n",
       "      <td>20</td>\n",
       "      <td>35</td>\n",
       "      <td>30</td>\n",
       "      <td>5</td>\n",
       "      <td>77560.04756</td>\n",
       "      <td>24792.91000</td>\n",
       "      <td>2</td>\n",
       "      <td>0.179350</td>\n",
       "      <td>0.361727</td>\n",
       "      <td>0.459085</td>\n",
       "    </tr>\n",
       "    <tr>\n",
       "      <th>4998</th>\n",
       "      <td>4998</td>\n",
       "      <td>Pear</td>\n",
       "      <td>Sales</td>\n",
       "      <td>9</td>\n",
       "      <td>49</td>\n",
       "      <td>48</td>\n",
       "      <td>1</td>\n",
       "      <td>153000.00000</td>\n",
       "      <td>11700.85033</td>\n",
       "      <td>4</td>\n",
       "      <td>1.000000</td>\n",
       "      <td>0.000000</td>\n",
       "      <td>0.585987</td>\n",
       "    </tr>\n",
       "    <tr>\n",
       "      <th>4999</th>\n",
       "      <td>4999</td>\n",
       "      <td>Glasses</td>\n",
       "      <td>AI</td>\n",
       "      <td>36</td>\n",
       "      <td>43</td>\n",
       "      <td>38</td>\n",
       "      <td>5</td>\n",
       "      <td>91443.50495</td>\n",
       "      <td>13529.04066</td>\n",
       "      <td>4</td>\n",
       "      <td>0.755094</td>\n",
       "      <td>0.000000</td>\n",
       "      <td>0.462368</td>\n",
       "    </tr>\n",
       "  </tbody>\n",
       "</table>\n",
       "<p>5000 rows × 13 columns</p>\n",
       "</div>"
      ],
      "text/plain": [
       "      sr_no   company     department  employee_id  age  age_when_joined  \\\n",
       "0         0   Glasses        BigData           16   41               38   \n",
       "1         1   Glasses             AI           56   44               42   \n",
       "2         2  Cheerper        Support           59   41               40   \n",
       "3         3   Glasses         Design           40   39               32   \n",
       "4         4   Glasses  Search Engine           47   30               22   \n",
       "...     ...       ...            ...          ...  ...              ...   \n",
       "4995   4995  Cheerper  Search Engine           37   42               35   \n",
       "4996   4996   Glasses             AI            1   36               25   \n",
       "4997   4997   Glasses  Search Engine           20   35               30   \n",
       "4998   4998      Pear          Sales            9   49               48   \n",
       "4999   4999   Glasses             AI           36   43               38   \n",
       "\n",
       "      years_in_the_company        salary  annual_bonus  \\\n",
       "0                        3   68074.97135   17664.10410   \n",
       "1                        2   49092.14746   21551.14108   \n",
       "2                        1   40000.00000   23698.87885   \n",
       "3                        7  108192.46550   21570.92966   \n",
       "4                        9   71291.19113   21565.50572   \n",
       "...                    ...           ...           ...   \n",
       "4995                     7   76541.84150   17366.89612   \n",
       "4996                     9  113651.48510   20888.14479   \n",
       "4997                     5   77560.04756   24792.91000   \n",
       "4998                     1  153000.00000   11700.85033   \n",
       "4999                     5   91443.50495   13529.04066   \n",
       "\n",
       "      prior_years_experience  full_time  part_time  contractor  \n",
       "0                          3   0.000000   0.000000    1.000000  \n",
       "1                          2   0.000000   0.184991    1.000000  \n",
       "2                          2   0.000000   0.919887    0.662706  \n",
       "3                          1   0.930396   0.546206    0.000000  \n",
       "4                          2   0.525432   0.938412    0.000000  \n",
       "...                      ...        ...        ...         ...  \n",
       "4995                       2   0.269842   0.691977    0.038156  \n",
       "4996                       1   0.356024   0.098686    0.545462  \n",
       "4997                       2   0.179350   0.361727    0.459085  \n",
       "4998                       4   1.000000   0.000000    0.585987  \n",
       "4999                       4   0.755094   0.000000    0.462368  \n",
       "\n",
       "[5000 rows x 13 columns]"
      ]
     },
     "execution_count": 4,
     "metadata": {},
     "output_type": "execute_result"
    }
   ],
   "source": [
    "df"
   ]
  },
  {
   "cell_type": "code",
   "execution_count": 5,
   "id": "6b61e4a5-72dc-43ee-aa9e-d13248feba61",
   "metadata": {},
   "outputs": [],
   "source": [
    "# mean=df['salary'].sum()/df['salary'].count() - Also Works\n",
    "mean=df['salary'].sum()/len(df['salary'])"
   ]
  },
  {
   "cell_type": "code",
   "execution_count": 6,
   "id": "27f0752f-80bf-44f1-b5ad-463a074f2764",
   "metadata": {},
   "outputs": [
    {
     "name": "stdout",
     "output_type": "stream",
     "text": [
      "Mean of Salary of all Employees :  87169.77\n"
     ]
    }
   ],
   "source": [
    "print(\"Mean of Salary of all Employees : \",round(mean,2)) #Round Function gives Decimal Places upto given numbers"
   ]
  },
  {
   "cell_type": "code",
   "execution_count": 7,
   "id": "30f7de45-9b16-46b2-889c-ca7396a13618",
   "metadata": {},
   "outputs": [],
   "source": [
    "sal=np.array(df['salary'].sort_values())"
   ]
  },
  {
   "cell_type": "code",
   "execution_count": 8,
   "id": "c5ea6a22-cfd4-4def-b288-214c281fcd6a",
   "metadata": {},
   "outputs": [
    {
     "data": {
      "text/plain": [
       "array([ 40000.,  40000.,  40000., ..., 153000., 153000., 153000.])"
      ]
     },
     "execution_count": 8,
     "metadata": {},
     "output_type": "execute_result"
    }
   ],
   "source": [
    "sal"
   ]
  },
  {
   "cell_type": "code",
   "execution_count": 9,
   "id": "31cf119d-d1e4-458f-bfa8-8850d2d1aa2b",
   "metadata": {},
   "outputs": [],
   "source": [
    "n=len(sal)\n",
    "if(n%2==0):\n",
    "    median=((n//2)+((n//2)+1))//2\n",
    "else:\n",
    "    median=(n+1)//2"
   ]
  },
  {
   "cell_type": "code",
   "execution_count": 10,
   "id": "0b43560d-29a6-41ff-adac-62c85338c6a2",
   "metadata": {},
   "outputs": [
    {
     "name": "stdout",
     "output_type": "stream",
     "text": [
      "Median of The Salary is :  86638.40854\n"
     ]
    }
   ],
   "source": [
    "print(\"Median of The Salary is : \",sal[median])"
   ]
  },
  {
   "cell_type": "code",
   "execution_count": 11,
   "id": "96465049-d966-4d02-bbec-2ef35f151384",
   "metadata": {},
   "outputs": [
    {
     "name": "stdout",
     "output_type": "stream",
     "text": [
      "Minimum Salary is :  40000.0\n"
     ]
    }
   ],
   "source": [
    "print('Minimum Salary is : ',sal.min())"
   ]
  },
  {
   "cell_type": "code",
   "execution_count": 12,
   "id": "0d76cecb-40f0-4fdd-9c8d-cc878e741acc",
   "metadata": {},
   "outputs": [
    {
     "name": "stdout",
     "output_type": "stream",
     "text": [
      "Maximum Salary is :  153000.0\n"
     ]
    }
   ],
   "source": [
    "print('Maximum Salary is : ',sal.max())"
   ]
  },
  {
   "cell_type": "code",
   "execution_count": 13,
   "id": "8c489424-5719-4823-999b-b553d7d66041",
   "metadata": {},
   "outputs": [],
   "source": [
    "sal_x=np.array(sal-mean)"
   ]
  },
  {
   "cell_type": "code",
   "execution_count": 14,
   "id": "3173bcc1-7b0d-401e-8a61-bcf5e81c512c",
   "metadata": {},
   "outputs": [],
   "source": [
    "sal_x=sal_x*sal_x"
   ]
  },
  {
   "cell_type": "code",
   "execution_count": 15,
   "id": "024283cc-7466-4d30-9bf8-08538b8bd992",
   "metadata": {},
   "outputs": [],
   "source": [
    "std_devtn=np.sqrt((sal_x.sum())/len(sal_x))"
   ]
  },
  {
   "cell_type": "code",
   "execution_count": 16,
   "id": "ef2969d7-c192-454b-a5c1-e11863fe1aa4",
   "metadata": {},
   "outputs": [
    {
     "name": "stdout",
     "output_type": "stream",
     "text": [
      "Standard Deviation is :  28384.677952310747\n"
     ]
    }
   ],
   "source": [
    "print(\"Standard Deviation is : \",std_devtn)"
   ]
  },
  {
   "cell_type": "code",
   "execution_count": 17,
   "id": "b885528f-f645-4884-b7f6-21577064affd",
   "metadata": {},
   "outputs": [
    {
     "data": {
      "text/html": [
       "<div>\n",
       "<style scoped>\n",
       "    .dataframe tbody tr th:only-of-type {\n",
       "        vertical-align: middle;\n",
       "    }\n",
       "\n",
       "    .dataframe tbody tr th {\n",
       "        vertical-align: top;\n",
       "    }\n",
       "\n",
       "    .dataframe thead th {\n",
       "        text-align: right;\n",
       "    }\n",
       "</style>\n",
       "<table border=\"1\" class=\"dataframe\">\n",
       "  <thead>\n",
       "    <tr style=\"text-align: right;\">\n",
       "      <th></th>\n",
       "      <th>sr_no</th>\n",
       "      <th>employee_id</th>\n",
       "      <th>age</th>\n",
       "      <th>age_when_joined</th>\n",
       "      <th>years_in_the_company</th>\n",
       "      <th>salary</th>\n",
       "      <th>annual_bonus</th>\n",
       "      <th>prior_years_experience</th>\n",
       "      <th>full_time</th>\n",
       "      <th>part_time</th>\n",
       "      <th>contractor</th>\n",
       "    </tr>\n",
       "  </thead>\n",
       "  <tbody>\n",
       "    <tr>\n",
       "      <th>count</th>\n",
       "      <td>5000.000000</td>\n",
       "      <td>5000.000000</td>\n",
       "      <td>5000.000000</td>\n",
       "      <td>5000.000000</td>\n",
       "      <td>5000.000000</td>\n",
       "      <td>5000.000000</td>\n",
       "      <td>5000.000000</td>\n",
       "      <td>5000.000000</td>\n",
       "      <td>5000.000000</td>\n",
       "      <td>5000.000000</td>\n",
       "      <td>5000.000000</td>\n",
       "    </tr>\n",
       "    <tr>\n",
       "      <th>mean</th>\n",
       "      <td>2499.500000</td>\n",
       "      <td>30.608400</td>\n",
       "      <td>38.131800</td>\n",
       "      <td>33.504600</td>\n",
       "      <td>4.662000</td>\n",
       "      <td>87169.773408</td>\n",
       "      <td>18602.668196</td>\n",
       "      <td>2.497600</td>\n",
       "      <td>0.375924</td>\n",
       "      <td>0.387252</td>\n",
       "      <td>0.384871</td>\n",
       "    </tr>\n",
       "    <tr>\n",
       "      <th>std</th>\n",
       "      <td>1443.520003</td>\n",
       "      <td>22.867375</td>\n",
       "      <td>6.040143</td>\n",
       "      <td>7.767165</td>\n",
       "      <td>2.547755</td>\n",
       "      <td>28387.516846</td>\n",
       "      <td>4412.142023</td>\n",
       "      <td>1.206103</td>\n",
       "      <td>0.338760</td>\n",
       "      <td>0.341085</td>\n",
       "      <td>0.339714</td>\n",
       "    </tr>\n",
       "    <tr>\n",
       "      <th>min</th>\n",
       "      <td>0.000000</td>\n",
       "      <td>1.000000</td>\n",
       "      <td>30.000000</td>\n",
       "      <td>22.000000</td>\n",
       "      <td>1.000000</td>\n",
       "      <td>40000.000000</td>\n",
       "      <td>9000.000000</td>\n",
       "      <td>1.000000</td>\n",
       "      <td>0.000000</td>\n",
       "      <td>0.000000</td>\n",
       "      <td>0.000000</td>\n",
       "    </tr>\n",
       "    <tr>\n",
       "      <th>25%</th>\n",
       "      <td>1249.750000</td>\n",
       "      <td>10.000000</td>\n",
       "      <td>33.000000</td>\n",
       "      <td>27.000000</td>\n",
       "      <td>3.000000</td>\n",
       "      <td>66068.490323</td>\n",
       "      <td>15412.930670</td>\n",
       "      <td>1.000000</td>\n",
       "      <td>0.009784</td>\n",
       "      <td>0.022684</td>\n",
       "      <td>0.017663</td>\n",
       "    </tr>\n",
       "    <tr>\n",
       "      <th>50%</th>\n",
       "      <td>2499.500000</td>\n",
       "      <td>29.000000</td>\n",
       "      <td>38.000000</td>\n",
       "      <td>33.000000</td>\n",
       "      <td>5.000000</td>\n",
       "      <td>86633.575485</td>\n",
       "      <td>18786.655970</td>\n",
       "      <td>2.000000</td>\n",
       "      <td>0.320972</td>\n",
       "      <td>0.336440</td>\n",
       "      <td>0.343933</td>\n",
       "    </tr>\n",
       "    <tr>\n",
       "      <th>75%</th>\n",
       "      <td>3749.250000</td>\n",
       "      <td>47.000000</td>\n",
       "      <td>43.000000</td>\n",
       "      <td>39.000000</td>\n",
       "      <td>7.000000</td>\n",
       "      <td>107154.507675</td>\n",
       "      <td>22282.508897</td>\n",
       "      <td>3.000000</td>\n",
       "      <td>0.642782</td>\n",
       "      <td>0.659128</td>\n",
       "      <td>0.648790</td>\n",
       "    </tr>\n",
       "    <tr>\n",
       "      <th>max</th>\n",
       "      <td>4999.000000</td>\n",
       "      <td>80.000000</td>\n",
       "      <td>49.000000</td>\n",
       "      <td>48.000000</td>\n",
       "      <td>9.000000</td>\n",
       "      <td>153000.000000</td>\n",
       "      <td>24792.910000</td>\n",
       "      <td>5.000000</td>\n",
       "      <td>1.000000</td>\n",
       "      <td>1.000000</td>\n",
       "      <td>1.000000</td>\n",
       "    </tr>\n",
       "  </tbody>\n",
       "</table>\n",
       "</div>"
      ],
      "text/plain": [
       "             sr_no  employee_id          age  age_when_joined  \\\n",
       "count  5000.000000  5000.000000  5000.000000      5000.000000   \n",
       "mean   2499.500000    30.608400    38.131800        33.504600   \n",
       "std    1443.520003    22.867375     6.040143         7.767165   \n",
       "min       0.000000     1.000000    30.000000        22.000000   \n",
       "25%    1249.750000    10.000000    33.000000        27.000000   \n",
       "50%    2499.500000    29.000000    38.000000        33.000000   \n",
       "75%    3749.250000    47.000000    43.000000        39.000000   \n",
       "max    4999.000000    80.000000    49.000000        48.000000   \n",
       "\n",
       "       years_in_the_company         salary  annual_bonus  \\\n",
       "count           5000.000000    5000.000000   5000.000000   \n",
       "mean               4.662000   87169.773408  18602.668196   \n",
       "std                2.547755   28387.516846   4412.142023   \n",
       "min                1.000000   40000.000000   9000.000000   \n",
       "25%                3.000000   66068.490323  15412.930670   \n",
       "50%                5.000000   86633.575485  18786.655970   \n",
       "75%                7.000000  107154.507675  22282.508897   \n",
       "max                9.000000  153000.000000  24792.910000   \n",
       "\n",
       "       prior_years_experience    full_time    part_time   contractor  \n",
       "count             5000.000000  5000.000000  5000.000000  5000.000000  \n",
       "mean                 2.497600     0.375924     0.387252     0.384871  \n",
       "std                  1.206103     0.338760     0.341085     0.339714  \n",
       "min                  1.000000     0.000000     0.000000     0.000000  \n",
       "25%                  1.000000     0.009784     0.022684     0.017663  \n",
       "50%                  2.000000     0.320972     0.336440     0.343933  \n",
       "75%                  3.000000     0.642782     0.659128     0.648790  \n",
       "max                  5.000000     1.000000     1.000000     1.000000  "
      ]
     },
     "execution_count": 17,
     "metadata": {},
     "output_type": "execute_result"
    }
   ],
   "source": [
    "df.describe()"
   ]
  },
  {
   "cell_type": "code",
   "execution_count": 18,
   "id": "c1c8d8ac-f1fd-47b5-be1f-c9841ff8eb92",
   "metadata": {},
   "outputs": [
    {
     "data": {
      "text/plain": [
       "sr_no                       int64\n",
       "company                    object\n",
       "department                 object\n",
       "employee_id                 int64\n",
       "age                         int64\n",
       "age_when_joined             int64\n",
       "years_in_the_company        int64\n",
       "salary                    float64\n",
       "annual_bonus              float64\n",
       "prior_years_experience      int64\n",
       "full_time                 float64\n",
       "part_time                 float64\n",
       "contractor                float64\n",
       "dtype: object"
      ]
     },
     "execution_count": 18,
     "metadata": {},
     "output_type": "execute_result"
    }
   ],
   "source": [
    "df.dtypes"
   ]
  },
  {
   "cell_type": "code",
   "execution_count": null,
   "id": "e64a2c12-8c61-491c-89be-7ea7b02f1b48",
   "metadata": {},
   "outputs": [],
   "source": []
  }
 ],
 "metadata": {
  "kernelspec": {
   "display_name": "Python 3 (ipykernel)",
   "language": "python",
   "name": "python3"
  },
  "language_info": {
   "codemirror_mode": {
    "name": "ipython",
    "version": 3
   },
   "file_extension": ".py",
   "mimetype": "text/x-python",
   "name": "python",
   "nbconvert_exporter": "python",
   "pygments_lexer": "ipython3",
   "version": "3.11.7"
  }
 },
 "nbformat": 4,
 "nbformat_minor": 5
}
