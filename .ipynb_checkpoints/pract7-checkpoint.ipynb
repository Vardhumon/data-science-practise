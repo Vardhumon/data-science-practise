{
 "cells": [
  {
   "cell_type": "code",
   "execution_count": 1,
   "id": "b9e4cca5-3d24-4fa3-b730-755e8149ee20",
   "metadata": {},
   "outputs": [],
   "source": [
    "import nltk\n",
    "from nltk.tokenize import word_tokenize\n",
    "from nltk.corpus import stopwords\n",
    "from nltk.stem import PorterStemmer, WordNetLemmatizer\n",
    "from nltk import pos_tag\n",
    "import numpy as np"
   ]
  },
  {
   "cell_type": "code",
   "execution_count": 2,
   "id": "a2bb4ca6-41a4-448d-bc15-f889255db821",
   "metadata": {},
   "outputs": [],
   "source": [
    "doc=\"\"\"Natural language processing (NLP) is the ability of a computer program to understand human language as it's spoken and written -- referred to as natural language. It's a component of artificial intelligence (AI).\n",
    "\n",
    "NLP has existed for more than 50 years and has roots in the field of linguistics. It has a variety of real-world applications in numerous fields, including medical research, search engines and business intelligence.\n",
    "\n",
    "NLP uses either rule-based or machine learning approaches to understand the structure and meaning of text. It plays a role in chatbots, voice assistants, text-based scanning programs, translation applications and enterprise software that aids in business operations, increases productivity and simplifies different processes.\n",
    "\n",
    "\"\"\""
   ]
  },
  {
   "cell_type": "code",
   "execution_count": 3,
   "id": "0d451f66-65a7-4567-964d-dc56453444d3",
   "metadata": {},
   "outputs": [],
   "source": [
    "# Tokenization\n",
    "tokens = word_tokenize(doc)\n"
   ]
  },
  {
   "cell_type": "code",
   "execution_count": 4,
   "id": "9560b121-5867-4ad0-9414-ae48bb5c160a",
   "metadata": {},
   "outputs": [],
   "source": [
    "# POS Tagging\n",
    "pos_tags = pos_tag(tokens)\n"
   ]
  },
  {
   "cell_type": "code",
   "execution_count": 5,
   "id": "a8d08604-19b4-454d-bcb6-7bc23851b896",
   "metadata": {},
   "outputs": [],
   "source": [
    "# Stop Words Removal\n",
    "stop_words = set(stopwords.words('english'))\n",
    "filtered_tokens = [word for word in tokens if word.lower() not in stop_words]\n"
   ]
  },
  {
   "cell_type": "code",
   "execution_count": 6,
   "id": "09ccbc86-a952-4a17-801e-40685853ecdb",
   "metadata": {},
   "outputs": [],
   "source": [
    "# Stemming\n",
    "stemmer = PorterStemmer()\n",
    "stemmed_tokens = [stemmer.stem(word) for word in filtered_tokens]\n"
   ]
  },
  {
   "cell_type": "code",
   "execution_count": 7,
   "id": "59dea627-904d-4d00-9db1-7e95e83f76ba",
   "metadata": {},
   "outputs": [],
   "source": [
    "# Lemmatization\n",
    "lemmatizer = WordNetLemmatizer()\n",
    "lemmatized_tokens = [lemmatizer.lemmatize(word) for word in filtered_tokens]\n"
   ]
  },
  {
   "cell_type": "code",
   "execution_count": 8,
   "id": "fe642fc2-45c6-4333-a5ca-a98b8e6ef558",
   "metadata": {},
   "outputs": [
    {
     "name": "stdout",
     "output_type": "stream",
     "text": [
      "Sample Document:\n",
      "Natural language processing (NLP) is the ability of a computer program to understand human language as it's spoken and written -- referred to as natural language. It's a component of artificial intelligence (AI).\n",
      "\n",
      "NLP has existed for more than 50 years and has roots in the field of linguistics. It has a variety of real-world applications in numerous fields, including medical research, search engines and business intelligence.\n",
      "\n",
      "NLP uses either rule-based or machine learning approaches to understand the structure and meaning of text. It plays a role in chatbots, voice assistants, text-based scanning programs, translation applications and enterprise software that aids in business operations, increases productivity and simplifies different processes.\n",
      "\n",
      "\n"
     ]
    }
   ],
   "source": [
    "# Print Results\n",
    "print(\"Sample Document:\")\n",
    "print(doc)"
   ]
  },
  {
   "cell_type": "code",
   "execution_count": 9,
   "id": "193e1e91-e278-45e3-b93b-66fa60d19552",
   "metadata": {},
   "outputs": [
    {
     "name": "stdout",
     "output_type": "stream",
     "text": [
      "\n",
      "Tokenization:\n",
      "['Natural', 'language', 'processing', '(', 'NLP', ')', 'is', 'the', 'ability', 'of', 'a', 'computer', 'program', 'to', 'understand', 'human', 'language', 'as', 'it', \"'s\", 'spoken', 'and', 'written', '--', 'referred', 'to', 'as', 'natural', 'language', '.', 'It', \"'s\", 'a', 'component', 'of', 'artificial', 'intelligence', '(', 'AI', ')', '.', 'NLP', 'has', 'existed', 'for', 'more', 'than', '50', 'years', 'and', 'has', 'roots', 'in', 'the', 'field', 'of', 'linguistics', '.', 'It', 'has', 'a', 'variety', 'of', 'real-world', 'applications', 'in', 'numerous', 'fields', ',', 'including', 'medical', 'research', ',', 'search', 'engines', 'and', 'business', 'intelligence', '.', 'NLP', 'uses', 'either', 'rule-based', 'or', 'machine', 'learning', 'approaches', 'to', 'understand', 'the', 'structure', 'and', 'meaning', 'of', 'text', '.', 'It', 'plays', 'a', 'role', 'in', 'chatbots', ',', 'voice', 'assistants', ',', 'text-based', 'scanning', 'programs', ',', 'translation', 'applications', 'and', 'enterprise', 'software', 'that', 'aids', 'in', 'business', 'operations', ',', 'increases', 'productivity', 'and', 'simplifies', 'different', 'processes', '.']\n"
     ]
    }
   ],
   "source": [
    "print(\"\\nTokenization:\")\n",
    "print(tokens)"
   ]
  },
  {
   "cell_type": "code",
   "execution_count": 10,
   "id": "94f2fdfd-5a1a-4f71-bf1e-6a24f27ab7a9",
   "metadata": {},
   "outputs": [
    {
     "name": "stdout",
     "output_type": "stream",
     "text": [
      "\n",
      "POS Tagging:\n",
      "[('Natural', 'JJ'), ('language', 'NN'), ('processing', 'NN'), ('(', '('), ('NLP', 'NNP'), (')', ')'), ('is', 'VBZ'), ('the', 'DT'), ('ability', 'NN'), ('of', 'IN'), ('a', 'DT'), ('computer', 'NN'), ('program', 'NN'), ('to', 'TO'), ('understand', 'VB'), ('human', 'JJ'), ('language', 'NN'), ('as', 'IN'), ('it', 'PRP'), (\"'s\", 'VBZ'), ('spoken', 'JJ'), ('and', 'CC'), ('written', 'VBN'), ('--', ':'), ('referred', 'VBD'), ('to', 'TO'), ('as', 'IN'), ('natural', 'JJ'), ('language', 'NN'), ('.', '.'), ('It', 'PRP'), (\"'s\", 'VBZ'), ('a', 'DT'), ('component', 'NN'), ('of', 'IN'), ('artificial', 'JJ'), ('intelligence', 'NN'), ('(', '('), ('AI', 'NNP'), (')', ')'), ('.', '.'), ('NLP', 'NNP'), ('has', 'VBZ'), ('existed', 'VBN'), ('for', 'IN'), ('more', 'JJR'), ('than', 'IN'), ('50', 'CD'), ('years', 'NNS'), ('and', 'CC'), ('has', 'VBZ'), ('roots', 'VBN'), ('in', 'IN'), ('the', 'DT'), ('field', 'NN'), ('of', 'IN'), ('linguistics', 'NNS'), ('.', '.'), ('It', 'PRP'), ('has', 'VBZ'), ('a', 'DT'), ('variety', 'NN'), ('of', 'IN'), ('real-world', 'JJ'), ('applications', 'NNS'), ('in', 'IN'), ('numerous', 'JJ'), ('fields', 'NNS'), (',', ','), ('including', 'VBG'), ('medical', 'JJ'), ('research', 'NN'), (',', ','), ('search', 'NN'), ('engines', 'NNS'), ('and', 'CC'), ('business', 'NN'), ('intelligence', 'NN'), ('.', '.'), ('NLP', 'NNP'), ('uses', 'VBZ'), ('either', 'DT'), ('rule-based', 'JJ'), ('or', 'CC'), ('machine', 'NN'), ('learning', 'NN'), ('approaches', 'NNS'), ('to', 'TO'), ('understand', 'VB'), ('the', 'DT'), ('structure', 'NN'), ('and', 'CC'), ('meaning', 'NN'), ('of', 'IN'), ('text', 'NN'), ('.', '.'), ('It', 'PRP'), ('plays', 'VBZ'), ('a', 'DT'), ('role', 'NN'), ('in', 'IN'), ('chatbots', 'NNS'), (',', ','), ('voice', 'NN'), ('assistants', 'NNS'), (',', ','), ('text-based', 'JJ'), ('scanning', 'NN'), ('programs', 'NNS'), (',', ','), ('translation', 'NN'), ('applications', 'NNS'), ('and', 'CC'), ('enterprise', 'NN'), ('software', 'NN'), ('that', 'WDT'), ('aids', 'VBZ'), ('in', 'IN'), ('business', 'NN'), ('operations', 'NNS'), (',', ','), ('increases', 'NNS'), ('productivity', 'NN'), ('and', 'CC'), ('simplifies', 'NNS'), ('different', 'JJ'), ('processes', 'NNS'), ('.', '.')]\n"
     ]
    }
   ],
   "source": [
    "print(\"\\nPOS Tagging:\")\n",
    "print(pos_tags)"
   ]
  },
  {
   "cell_type": "code",
   "execution_count": 11,
   "id": "b8738c74-1e1d-4fd4-9ad5-8e7a11f7f7d5",
   "metadata": {},
   "outputs": [
    {
     "name": "stdout",
     "output_type": "stream",
     "text": [
      "\n",
      "Stop Words Removal:\n",
      "['Natural', 'language', 'processing', '(', 'NLP', ')', 'ability', 'computer', 'program', 'understand', 'human', 'language', \"'s\", 'spoken', 'written', '--', 'referred', 'natural', 'language', '.', \"'s\", 'component', 'artificial', 'intelligence', '(', 'AI', ')', '.', 'NLP', 'existed', '50', 'years', 'roots', 'field', 'linguistics', '.', 'variety', 'real-world', 'applications', 'numerous', 'fields', ',', 'including', 'medical', 'research', ',', 'search', 'engines', 'business', 'intelligence', '.', 'NLP', 'uses', 'either', 'rule-based', 'machine', 'learning', 'approaches', 'understand', 'structure', 'meaning', 'text', '.', 'plays', 'role', 'chatbots', ',', 'voice', 'assistants', ',', 'text-based', 'scanning', 'programs', ',', 'translation', 'applications', 'enterprise', 'software', 'aids', 'business', 'operations', ',', 'increases', 'productivity', 'simplifies', 'different', 'processes', '.']\n"
     ]
    }
   ],
   "source": [
    "print(\"\\nStop Words Removal:\")\n",
    "print(filtered_tokens)"
   ]
  },
  {
   "cell_type": "code",
   "execution_count": 12,
   "id": "a27785f4-4f01-4d48-bfaf-089af962eda1",
   "metadata": {},
   "outputs": [
    {
     "name": "stdout",
     "output_type": "stream",
     "text": [
      "\n",
      "Stemming:\n",
      "['natur', 'languag', 'process', '(', 'nlp', ')', 'abil', 'comput', 'program', 'understand', 'human', 'languag', \"'s\", 'spoken', 'written', '--', 'refer', 'natur', 'languag', '.', \"'s\", 'compon', 'artifici', 'intellig', '(', 'ai', ')', '.', 'nlp', 'exist', '50', 'year', 'root', 'field', 'linguist', '.', 'varieti', 'real-world', 'applic', 'numer', 'field', ',', 'includ', 'medic', 'research', ',', 'search', 'engin', 'busi', 'intellig', '.', 'nlp', 'use', 'either', 'rule-bas', 'machin', 'learn', 'approach', 'understand', 'structur', 'mean', 'text', '.', 'play', 'role', 'chatbot', ',', 'voic', 'assist', ',', 'text-bas', 'scan', 'program', ',', 'translat', 'applic', 'enterpris', 'softwar', 'aid', 'busi', 'oper', ',', 'increas', 'product', 'simplifi', 'differ', 'process', '.']\n"
     ]
    }
   ],
   "source": [
    "print(\"\\nStemming:\")\n",
    "print(stemmed_tokens)"
   ]
  },
  {
   "cell_type": "code",
   "execution_count": 13,
   "id": "c16c4636-4e16-4ae6-8221-5a394dc369f5",
   "metadata": {},
   "outputs": [
    {
     "name": "stdout",
     "output_type": "stream",
     "text": [
      "\n",
      "Lemmatization:\n",
      "['Natural', 'language', 'processing', '(', 'NLP', ')', 'ability', 'computer', 'program', 'understand', 'human', 'language', \"'s\", 'spoken', 'written', '--', 'referred', 'natural', 'language', '.', \"'s\", 'component', 'artificial', 'intelligence', '(', 'AI', ')', '.', 'NLP', 'existed', '50', 'year', 'root', 'field', 'linguistics', '.', 'variety', 'real-world', 'application', 'numerous', 'field', ',', 'including', 'medical', 'research', ',', 'search', 'engine', 'business', 'intelligence', '.', 'NLP', 'us', 'either', 'rule-based', 'machine', 'learning', 'approach', 'understand', 'structure', 'meaning', 'text', '.', 'play', 'role', 'chatbots', ',', 'voice', 'assistant', ',', 'text-based', 'scanning', 'program', ',', 'translation', 'application', 'enterprise', 'software', 'aid', 'business', 'operation', ',', 'increase', 'productivity', 'simplifies', 'different', 'process', '.']\n"
     ]
    }
   ],
   "source": [
    "print(\"\\nLemmatization:\")\n",
    "print(lemmatized_tokens)"
   ]
  },
  {
   "cell_type": "code",
   "execution_count": 14,
   "id": "254ff05d-d63f-4e3f-b235-984041ca39a7",
   "metadata": {},
   "outputs": [],
   "source": [
    "# Function to calculate Term Frequency (TF)\n",
    "def calculate_tf(word, document):\n",
    "  tokens = word_tokenize(document)\n",
    "  return tokens.count(word) / len(tokens)"
   ]
  },
  {
   "cell_type": "code",
   "execution_count": 15,
   "id": "450cc194-87cf-4be2-99f4-2353e4f0f279",
   "metadata": {},
   "outputs": [],
   "source": [
    "# Function to calculate Document Frequency (assuming a small document collection here)\n",
    "def calculate_df(word, documents):\n",
    "  df = 0\n",
    "  for doc in documents:\n",
    "    if calculate_tf(word, doc) > 0:\n",
    "      df += 1\n",
    "  return df"
   ]
  },
  {
   "cell_type": "code",
   "execution_count": 16,
   "id": "d72f7599-e75b-4fc7-a55c-73e9be3ee1ba",
   "metadata": {},
   "outputs": [],
   "source": [
    "# Function to calculate TF-IDF\n",
    "def calculate_tfidf(word, document, documents):\n",
    "  tf = calculate_tf(word, document)\n",
    "  df = calculate_df(word, documents)\n",
    "  idf = 1 + np.log(len(documents) / (df + 1))  # Using NumPy for log (replace with appropriate library if not available)\n",
    "  return tf * idf"
   ]
  },
  {
   "cell_type": "code",
   "execution_count": 17,
   "id": "38212fad-6824-433d-9880-fdf6d7cbd247",
   "metadata": {},
   "outputs": [],
   "source": [
    "# Document Collection (assuming this is a small collection for demonstration)\n",
    "documents = [doc]\n",
    "\n",
    "# TF-IDF Calculation (example for word \"language\")\n",
    "word = \"in\"\n",
    "tfidf = calculate_tfidf(word, doc, documents)"
   ]
  },
  {
   "cell_type": "code",
   "execution_count": 18,
   "id": "e9b03b8a-b66b-4c96-9e66-5b8c3e1c6449",
   "metadata": {},
   "outputs": [
    {
     "name": "stdout",
     "output_type": "stream",
     "text": [
      "\n",
      "TF-IDF for word 'in':\n",
      "0.00958915060750171\n"
     ]
    }
   ],
   "source": [
    "\n",
    "print(\"\\nTF-IDF for word '{}':\".format(word))\n",
    "print(tfidf)"
   ]
  },
  {
   "cell_type": "code",
   "execution_count": null,
   "id": "866829b2-b400-481d-a1e1-32f570974199",
   "metadata": {},
   "outputs": [],
   "source": []
  }
 ],
 "metadata": {
  "kernelspec": {
   "display_name": "Python 3 (ipykernel)",
   "language": "python",
   "name": "python3"
  },
  "language_info": {
   "codemirror_mode": {
    "name": "ipython",
    "version": 3
   },
   "file_extension": ".py",
   "mimetype": "text/x-python",
   "name": "python",
   "nbconvert_exporter": "python",
   "pygments_lexer": "ipython3",
   "version": "3.11.7"
  }
 },
 "nbformat": 4,
 "nbformat_minor": 5
}
