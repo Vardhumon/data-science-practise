{
 "cells": [
  {
   "cell_type": "code",
   "execution_count": 1,
   "id": "4a1c442d-2850-4cff-b981-0c12f60231f1",
   "metadata": {},
   "outputs": [],
   "source": [
    "import numpy as np\n",
    "import pandas as pd"
   ]
  },
  {
   "cell_type": "code",
   "execution_count": 2,
   "id": "1599f572-9801-4696-9933-ff5af1705c01",
   "metadata": {},
   "outputs": [],
   "source": [
    "df=pd.read_csv('company_employee_details-p3.csv')"
   ]
  },
  {
   "cell_type": "code",
   "execution_count": 3,
   "id": "444ea441-2fd5-4613-a1a4-09a1d4de25a5",
   "metadata": {},
   "outputs": [
    {
     "data": {
      "text/html": [
       "<div>\n",
       "<style scoped>\n",
       "    .dataframe tbody tr th:only-of-type {\n",
       "        vertical-align: middle;\n",
       "    }\n",
       "\n",
       "    .dataframe tbody tr th {\n",
       "        vertical-align: top;\n",
       "    }\n",
       "\n",
       "    .dataframe thead th {\n",
       "        text-align: right;\n",
       "    }\n",
       "</style>\n",
       "<table border=\"1\" class=\"dataframe\">\n",
       "  <thead>\n",
       "    <tr style=\"text-align: right;\">\n",
       "      <th></th>\n",
       "      <th>sr_no</th>\n",
       "      <th>company</th>\n",
       "      <th>department</th>\n",
       "      <th>employee_id</th>\n",
       "      <th>age</th>\n",
       "      <th>age_when_joined</th>\n",
       "      <th>years_in_the_company</th>\n",
       "      <th>salary</th>\n",
       "      <th>annual_bonus</th>\n",
       "      <th>prior_years_experience</th>\n",
       "      <th>full_time</th>\n",
       "      <th>part_time</th>\n",
       "      <th>contractor</th>\n",
       "    </tr>\n",
       "  </thead>\n",
       "  <tbody>\n",
       "    <tr>\n",
       "      <th>0</th>\n",
       "      <td>0</td>\n",
       "      <td>Glasses</td>\n",
       "      <td>BigData</td>\n",
       "      <td>16</td>\n",
       "      <td>41</td>\n",
       "      <td>38</td>\n",
       "      <td>3</td>\n",
       "      <td>68074.97135</td>\n",
       "      <td>17664.10410</td>\n",
       "      <td>3</td>\n",
       "      <td>0.000000</td>\n",
       "      <td>0.000000</td>\n",
       "      <td>1.000000</td>\n",
       "    </tr>\n",
       "    <tr>\n",
       "      <th>1</th>\n",
       "      <td>1</td>\n",
       "      <td>Glasses</td>\n",
       "      <td>AI</td>\n",
       "      <td>56</td>\n",
       "      <td>44</td>\n",
       "      <td>42</td>\n",
       "      <td>2</td>\n",
       "      <td>49092.14746</td>\n",
       "      <td>21551.14108</td>\n",
       "      <td>2</td>\n",
       "      <td>0.000000</td>\n",
       "      <td>0.184991</td>\n",
       "      <td>1.000000</td>\n",
       "    </tr>\n",
       "    <tr>\n",
       "      <th>2</th>\n",
       "      <td>2</td>\n",
       "      <td>Cheerper</td>\n",
       "      <td>Support</td>\n",
       "      <td>59</td>\n",
       "      <td>41</td>\n",
       "      <td>40</td>\n",
       "      <td>1</td>\n",
       "      <td>40000.00000</td>\n",
       "      <td>23698.87885</td>\n",
       "      <td>2</td>\n",
       "      <td>0.000000</td>\n",
       "      <td>0.919887</td>\n",
       "      <td>0.662706</td>\n",
       "    </tr>\n",
       "    <tr>\n",
       "      <th>3</th>\n",
       "      <td>3</td>\n",
       "      <td>Glasses</td>\n",
       "      <td>Design</td>\n",
       "      <td>40</td>\n",
       "      <td>39</td>\n",
       "      <td>32</td>\n",
       "      <td>7</td>\n",
       "      <td>108192.46550</td>\n",
       "      <td>21570.92966</td>\n",
       "      <td>1</td>\n",
       "      <td>0.930396</td>\n",
       "      <td>0.546206</td>\n",
       "      <td>0.000000</td>\n",
       "    </tr>\n",
       "    <tr>\n",
       "      <th>4</th>\n",
       "      <td>4</td>\n",
       "      <td>Glasses</td>\n",
       "      <td>Search Engine</td>\n",
       "      <td>47</td>\n",
       "      <td>30</td>\n",
       "      <td>22</td>\n",
       "      <td>9</td>\n",
       "      <td>71291.19113</td>\n",
       "      <td>21565.50572</td>\n",
       "      <td>2</td>\n",
       "      <td>0.525432</td>\n",
       "      <td>0.938412</td>\n",
       "      <td>0.000000</td>\n",
       "    </tr>\n",
       "    <tr>\n",
       "      <th>...</th>\n",
       "      <td>...</td>\n",
       "      <td>...</td>\n",
       "      <td>...</td>\n",
       "      <td>...</td>\n",
       "      <td>...</td>\n",
       "      <td>...</td>\n",
       "      <td>...</td>\n",
       "      <td>...</td>\n",
       "      <td>...</td>\n",
       "      <td>...</td>\n",
       "      <td>...</td>\n",
       "      <td>...</td>\n",
       "      <td>...</td>\n",
       "    </tr>\n",
       "    <tr>\n",
       "      <th>4995</th>\n",
       "      <td>4995</td>\n",
       "      <td>Cheerper</td>\n",
       "      <td>Search Engine</td>\n",
       "      <td>37</td>\n",
       "      <td>42</td>\n",
       "      <td>35</td>\n",
       "      <td>7</td>\n",
       "      <td>76541.84150</td>\n",
       "      <td>17366.89612</td>\n",
       "      <td>2</td>\n",
       "      <td>0.269842</td>\n",
       "      <td>0.691977</td>\n",
       "      <td>0.038156</td>\n",
       "    </tr>\n",
       "    <tr>\n",
       "      <th>4996</th>\n",
       "      <td>4996</td>\n",
       "      <td>Glasses</td>\n",
       "      <td>AI</td>\n",
       "      <td>1</td>\n",
       "      <td>36</td>\n",
       "      <td>25</td>\n",
       "      <td>9</td>\n",
       "      <td>113651.48510</td>\n",
       "      <td>20888.14479</td>\n",
       "      <td>1</td>\n",
       "      <td>0.356024</td>\n",
       "      <td>0.098686</td>\n",
       "      <td>0.545462</td>\n",
       "    </tr>\n",
       "    <tr>\n",
       "      <th>4997</th>\n",
       "      <td>4997</td>\n",
       "      <td>Glasses</td>\n",
       "      <td>Search Engine</td>\n",
       "      <td>20</td>\n",
       "      <td>35</td>\n",
       "      <td>30</td>\n",
       "      <td>5</td>\n",
       "      <td>77560.04756</td>\n",
       "      <td>24792.91000</td>\n",
       "      <td>2</td>\n",
       "      <td>0.179350</td>\n",
       "      <td>0.361727</td>\n",
       "      <td>0.459085</td>\n",
       "    </tr>\n",
       "    <tr>\n",
       "      <th>4998</th>\n",
       "      <td>4998</td>\n",
       "      <td>Pear</td>\n",
       "      <td>Sales</td>\n",
       "      <td>9</td>\n",
       "      <td>49</td>\n",
       "      <td>48</td>\n",
       "      <td>1</td>\n",
       "      <td>153000.00000</td>\n",
       "      <td>11700.85033</td>\n",
       "      <td>4</td>\n",
       "      <td>1.000000</td>\n",
       "      <td>0.000000</td>\n",
       "      <td>0.585987</td>\n",
       "    </tr>\n",
       "    <tr>\n",
       "      <th>4999</th>\n",
       "      <td>4999</td>\n",
       "      <td>Glasses</td>\n",
       "      <td>AI</td>\n",
       "      <td>36</td>\n",
       "      <td>43</td>\n",
       "      <td>38</td>\n",
       "      <td>5</td>\n",
       "      <td>91443.50495</td>\n",
       "      <td>13529.04066</td>\n",
       "      <td>4</td>\n",
       "      <td>0.755094</td>\n",
       "      <td>0.000000</td>\n",
       "      <td>0.462368</td>\n",
       "    </tr>\n",
       "  </tbody>\n",
       "</table>\n",
       "<p>5000 rows × 13 columns</p>\n",
       "</div>"
      ],
      "text/plain": [
       "      sr_no   company     department  employee_id  age  age_when_joined  \\\n",
       "0         0   Glasses        BigData           16   41               38   \n",
       "1         1   Glasses             AI           56   44               42   \n",
       "2         2  Cheerper        Support           59   41               40   \n",
       "3         3   Glasses         Design           40   39               32   \n",
       "4         4   Glasses  Search Engine           47   30               22   \n",
       "...     ...       ...            ...          ...  ...              ...   \n",
       "4995   4995  Cheerper  Search Engine           37   42               35   \n",
       "4996   4996   Glasses             AI            1   36               25   \n",
       "4997   4997   Glasses  Search Engine           20   35               30   \n",
       "4998   4998      Pear          Sales            9   49               48   \n",
       "4999   4999   Glasses             AI           36   43               38   \n",
       "\n",
       "      years_in_the_company        salary  annual_bonus  \\\n",
       "0                        3   68074.97135   17664.10410   \n",
       "1                        2   49092.14746   21551.14108   \n",
       "2                        1   40000.00000   23698.87885   \n",
       "3                        7  108192.46550   21570.92966   \n",
       "4                        9   71291.19113   21565.50572   \n",
       "...                    ...           ...           ...   \n",
       "4995                     7   76541.84150   17366.89612   \n",
       "4996                     9  113651.48510   20888.14479   \n",
       "4997                     5   77560.04756   24792.91000   \n",
       "4998                     1  153000.00000   11700.85033   \n",
       "4999                     5   91443.50495   13529.04066   \n",
       "\n",
       "      prior_years_experience  full_time  part_time  contractor  \n",
       "0                          3   0.000000   0.000000    1.000000  \n",
       "1                          2   0.000000   0.184991    1.000000  \n",
       "2                          2   0.000000   0.919887    0.662706  \n",
       "3                          1   0.930396   0.546206    0.000000  \n",
       "4                          2   0.525432   0.938412    0.000000  \n",
       "...                      ...        ...        ...         ...  \n",
       "4995                       2   0.269842   0.691977    0.038156  \n",
       "4996                       1   0.356024   0.098686    0.545462  \n",
       "4997                       2   0.179350   0.361727    0.459085  \n",
       "4998                       4   1.000000   0.000000    0.585987  \n",
       "4999                       4   0.755094   0.000000    0.462368  \n",
       "\n",
       "[5000 rows x 13 columns]"
      ]
     },
     "execution_count": 3,
     "metadata": {},
     "output_type": "execute_result"
    }
   ],
   "source": [
    "df"
   ]
  },
  {
   "cell_type": "code",
   "execution_count": 4,
   "id": "4208b1ca-4f4d-463a-9e7d-b376839fdd5e",
   "metadata": {},
   "outputs": [
    {
     "name": "stdout",
     "output_type": "stream",
     "text": [
      "<class 'pandas.core.frame.DataFrame'>\n",
      "RangeIndex: 5000 entries, 0 to 4999\n",
      "Data columns (total 13 columns):\n",
      " #   Column                  Non-Null Count  Dtype  \n",
      "---  ------                  --------------  -----  \n",
      " 0   sr_no                   5000 non-null   int64  \n",
      " 1   company                 5000 non-null   object \n",
      " 2   department              5000 non-null   object \n",
      " 3   employee_id             5000 non-null   int64  \n",
      " 4   age                     5000 non-null   int64  \n",
      " 5   age_when_joined         5000 non-null   int64  \n",
      " 6   years_in_the_company    5000 non-null   int64  \n",
      " 7   salary                  5000 non-null   float64\n",
      " 8   annual_bonus            5000 non-null   float64\n",
      " 9   prior_years_experience  5000 non-null   int64  \n",
      " 10  full_time               5000 non-null   float64\n",
      " 11  part_time               5000 non-null   float64\n",
      " 12  contractor              5000 non-null   float64\n",
      "dtypes: float64(5), int64(6), object(2)\n",
      "memory usage: 507.9+ KB\n"
     ]
    }
   ],
   "source": [
    "df.info()"
   ]
  },
  {
   "cell_type": "code",
   "execution_count": 5,
   "id": "21fbdd74-4594-469c-84a9-77cadfc16529",
   "metadata": {},
   "outputs": [
    {
     "name": "stdout",
     "output_type": "stream",
     "text": [
      "Mean of Salary :  87169.77\n"
     ]
    }
   ],
   "source": [
    "#Mean Calculation of Salary\n",
    "mean=df['salary'].sum()/len(df['salary'])\n",
    "print(\"Mean of Salary : \",np.round(mean,2))"
   ]
  },
  {
   "cell_type": "code",
   "execution_count": 16,
   "id": "4b6cd749-4f36-47ca-8c1d-001ec530278f",
   "metadata": {},
   "outputs": [
    {
     "name": "stdout",
     "output_type": "stream",
     "text": [
      "Median of Salary  :  86638.40854\n"
     ]
    }
   ],
   "source": [
    "#Median Calculation\n",
    "sal=np.array(df['salary'].sort_values())\n",
    "x=len(sal)\n",
    "if(x%2==0):\n",
    "    median=sal[((x//2)+((x//2)+1))//2]\n",
    "else:\n",
    "    median=(sal[(x+1)//2])\n",
    "\n",
    "print(\"Median of Salary  : \",median)"
   ]
  },
  {
   "cell_type": "code",
   "execution_count": 17,
   "id": "05a03975-238f-4310-a0a0-e2326be60352",
   "metadata": {},
   "outputs": [
    {
     "name": "stdout",
     "output_type": "stream",
     "text": [
      "Minimum Salay:  40000.0\n"
     ]
    }
   ],
   "source": [
    "# Minimum Salary \n",
    "min=sal.min()\n",
    "print(\"Minimum Salay: \",min)"
   ]
  },
  {
   "cell_type": "code",
   "execution_count": 18,
   "id": "06740918-84ce-4ae4-bd76-e49b75cc7c66",
   "metadata": {},
   "outputs": [
    {
     "name": "stdout",
     "output_type": "stream",
     "text": [
      "Maximum Salary:  153000.0\n"
     ]
    }
   ],
   "source": [
    "# Maximum Salary\n",
    "max=sal.max()\n",
    "print(\"Maximum Salary: \",max)"
   ]
  },
  {
   "cell_type": "code",
   "execution_count": 19,
   "id": "b36b9399-44c2-445d-8868-6b486004e92a",
   "metadata": {},
   "outputs": [
    {
     "name": "stdout",
     "output_type": "stream",
     "text": [
      "Standard_Deviation :  28384.677952310747\n"
     ]
    }
   ],
   "source": [
    "#Standard Deviation\n",
    "sal_x=sal-mean\n",
    "sal_x=sal_x*sal_x\n",
    "std_dvtn=np.sqrt((sal_x.sum())/len(sal_x))\n",
    "print(\"Standard_Deviation : \",std_dvtn)"
   ]
  },
  {
   "cell_type": "code",
   "execution_count": 20,
   "id": "5f381c85-aee1-41aa-b48c-9109e42e5b39",
   "metadata": {},
   "outputs": [
    {
     "data": {
      "text/plain": [
       "count      5000.000000\n",
       "mean      87169.773408\n",
       "std       28387.516846\n",
       "min       40000.000000\n",
       "25%       66068.490323\n",
       "50%       86633.575485\n",
       "75%      107154.507675\n",
       "max      153000.000000\n",
       "Name: salary, dtype: float64"
      ]
     },
     "execution_count": 20,
     "metadata": {},
     "output_type": "execute_result"
    }
   ],
   "source": [
    "df['salary'].describe()"
   ]
  },
  {
   "cell_type": "code",
   "execution_count": null,
   "id": "5db5b913-5d50-46f2-83fb-a68661bb738d",
   "metadata": {},
   "outputs": [],
   "source": []
  }
 ],
 "metadata": {
  "kernelspec": {
   "display_name": "Python 3 (ipykernel)",
   "language": "python",
   "name": "python3"
  },
  "language_info": {
   "codemirror_mode": {
    "name": "ipython",
    "version": 3
   },
   "file_extension": ".py",
   "mimetype": "text/x-python",
   "name": "python",
   "nbconvert_exporter": "python",
   "pygments_lexer": "ipython3",
   "version": "3.11.7"
  }
 },
 "nbformat": 4,
 "nbformat_minor": 5
}
