{
 "cells": [
  {
   "cell_type": "code",
   "execution_count": 1,
   "id": "9a37b331-fdf3-49ca-b06c-3ba399b29b71",
   "metadata": {},
   "outputs": [],
   "source": [
    "import numpy as np\n",
    "import pandas as pd\n",
    "import seaborn as sns\n",
    "import matplotlib.pyplot as plt"
   ]
  },
  {
   "cell_type": "code",
   "execution_count": 2,
   "id": "204347dc-f1e4-46d1-893a-20e88c77a1b5",
   "metadata": {},
   "outputs": [],
   "source": [
    "df=pd.DataFrame({'id':[101,102,103,104,105,106,107,108,109,110],\n",
    "                 'phy_score':[85,72,56,84,67,46,78,96,45,88],\n",
    "                 'chem_score':[92,68,45,87,95,np.nan,83,91,73,61],\n",
    "                 'math_score':[93,86,74,88,94,67,85,74,95,66]})"
   ]
  },
  {
   "cell_type": "code",
   "execution_count": 3,
   "id": "7137e8b5-fcef-46db-b659-30cb694f0064",
   "metadata": {},
   "outputs": [
    {
     "data": {
      "text/html": [
       "<div>\n",
       "<style scoped>\n",
       "    .dataframe tbody tr th:only-of-type {\n",
       "        vertical-align: middle;\n",
       "    }\n",
       "\n",
       "    .dataframe tbody tr th {\n",
       "        vertical-align: top;\n",
       "    }\n",
       "\n",
       "    .dataframe thead th {\n",
       "        text-align: right;\n",
       "    }\n",
       "</style>\n",
       "<table border=\"1\" class=\"dataframe\">\n",
       "  <thead>\n",
       "    <tr style=\"text-align: right;\">\n",
       "      <th></th>\n",
       "      <th>id</th>\n",
       "      <th>phy_score</th>\n",
       "      <th>chem_score</th>\n",
       "      <th>math_score</th>\n",
       "    </tr>\n",
       "  </thead>\n",
       "  <tbody>\n",
       "    <tr>\n",
       "      <th>0</th>\n",
       "      <td>101</td>\n",
       "      <td>85</td>\n",
       "      <td>92.0</td>\n",
       "      <td>93</td>\n",
       "    </tr>\n",
       "    <tr>\n",
       "      <th>1</th>\n",
       "      <td>102</td>\n",
       "      <td>72</td>\n",
       "      <td>68.0</td>\n",
       "      <td>86</td>\n",
       "    </tr>\n",
       "    <tr>\n",
       "      <th>2</th>\n",
       "      <td>103</td>\n",
       "      <td>56</td>\n",
       "      <td>45.0</td>\n",
       "      <td>74</td>\n",
       "    </tr>\n",
       "    <tr>\n",
       "      <th>3</th>\n",
       "      <td>104</td>\n",
       "      <td>84</td>\n",
       "      <td>87.0</td>\n",
       "      <td>88</td>\n",
       "    </tr>\n",
       "    <tr>\n",
       "      <th>4</th>\n",
       "      <td>105</td>\n",
       "      <td>67</td>\n",
       "      <td>95.0</td>\n",
       "      <td>94</td>\n",
       "    </tr>\n",
       "    <tr>\n",
       "      <th>5</th>\n",
       "      <td>106</td>\n",
       "      <td>46</td>\n",
       "      <td>NaN</td>\n",
       "      <td>67</td>\n",
       "    </tr>\n",
       "    <tr>\n",
       "      <th>6</th>\n",
       "      <td>107</td>\n",
       "      <td>78</td>\n",
       "      <td>83.0</td>\n",
       "      <td>85</td>\n",
       "    </tr>\n",
       "    <tr>\n",
       "      <th>7</th>\n",
       "      <td>108</td>\n",
       "      <td>96</td>\n",
       "      <td>91.0</td>\n",
       "      <td>74</td>\n",
       "    </tr>\n",
       "    <tr>\n",
       "      <th>8</th>\n",
       "      <td>109</td>\n",
       "      <td>45</td>\n",
       "      <td>73.0</td>\n",
       "      <td>95</td>\n",
       "    </tr>\n",
       "    <tr>\n",
       "      <th>9</th>\n",
       "      <td>110</td>\n",
       "      <td>88</td>\n",
       "      <td>61.0</td>\n",
       "      <td>66</td>\n",
       "    </tr>\n",
       "  </tbody>\n",
       "</table>\n",
       "</div>"
      ],
      "text/plain": [
       "    id  phy_score  chem_score  math_score\n",
       "0  101         85        92.0          93\n",
       "1  102         72        68.0          86\n",
       "2  103         56        45.0          74\n",
       "3  104         84        87.0          88\n",
       "4  105         67        95.0          94\n",
       "5  106         46         NaN          67\n",
       "6  107         78        83.0          85\n",
       "7  108         96        91.0          74\n",
       "8  109         45        73.0          95\n",
       "9  110         88        61.0          66"
      ]
     },
     "execution_count": 3,
     "metadata": {},
     "output_type": "execute_result"
    }
   ],
   "source": [
    "df"
   ]
  },
  {
   "cell_type": "code",
   "execution_count": 4,
   "id": "4cdd9f4d-2e40-4de8-ba0b-34454b0316a6",
   "metadata": {},
   "outputs": [
    {
     "data": {
      "text/plain": [
       "id            0\n",
       "phy_score     0\n",
       "chem_score    1\n",
       "math_score    0\n",
       "dtype: int64"
      ]
     },
     "execution_count": 4,
     "metadata": {},
     "output_type": "execute_result"
    }
   ],
   "source": [
    "df.isnull().sum()"
   ]
  },
  {
   "cell_type": "code",
   "execution_count": 5,
   "id": "cb2a011a-f74e-4fd2-88b5-c89c15034a80",
   "metadata": {},
   "outputs": [],
   "source": [
    "df=df.dropna()"
   ]
  },
  {
   "cell_type": "code",
   "execution_count": 6,
   "id": "f5774e42-7c7b-40b6-980d-e3ef6e996add",
   "metadata": {},
   "outputs": [
    {
     "data": {
      "image/png": "[encoded data removed]",
      "text/plain": [
       "<Figure size 640x480 with 1 Axes>"
      ]
     },
     "metadata": {},
     "output_type": "display_data"
    }
   ],
   "source": [
    "nums=['phy_score','chem_score','math_score']\n",
    "sns.boxplot(data=df[nums])\n",
    "plt.xlabel('Subjects')\n",
    "plt.ylabel('Scores')\n",
    "plt.show()"
   ]
  },
  {
   "cell_type": "code",
   "execution_count": 7,
   "id": "93ce569d-8d9c-404c-880b-86ed46bfc31a",
   "metadata": {},
   "outputs": [
    {
     "name": "stderr",
     "output_type": "stream",
     "text": [
      "C:\\Users\\ASUS\\AppData\\Local\\Temp\\ipykernel_27124\\481750125.py:1: SettingWithCopyWarning: \n",
      "A value is trying to be set on a copy of a slice from a DataFrame.\n",
      "Try using .loc[row_indexer,col_indexer] = value instead\n",
      "\n",
      "See the caveats in the documentation: https://pandas.pydata.org/pandas-docs/stable/user_guide/indexing.html#returning-a-view-versus-a-copy\n",
      "  df['phy_log']=np.log(df['phy_score'])\n",
      "C:\\Users\\ASUS\\AppData\\Local\\Temp\\ipykernel_27124\\481750125.py:2: SettingWithCopyWarning: \n",
      "A value is trying to be set on a copy of a slice from a DataFrame.\n",
      "Try using .loc[row_indexer,col_indexer] = value instead\n",
      "\n",
      "See the caveats in the documentation: https://pandas.pydata.org/pandas-docs/stable/user_guide/indexing.html#returning-a-view-versus-a-copy\n",
      "  df['chem_log']=np.log(df['chem_score'])\n",
      "C:\\Users\\ASUS\\AppData\\Local\\Temp\\ipykernel_27124\\481750125.py:3: SettingWithCopyWarning: \n",
      "A value is trying to be set on a copy of a slice from a DataFrame.\n",
      "Try using .loc[row_indexer,col_indexer] = value instead\n",
      "\n",
      "See the caveats in the documentation: https://pandas.pydata.org/pandas-docs/stable/user_guide/indexing.html#returning-a-view-versus-a-copy\n",
      "  df['math_log']=np.log(df['math_score'])\n"
     ]
    }
   ],
   "source": [
    "df['phy_log']=np.log(df['phy_score'])\n",
    "df['chem_log']=np.log(df['chem_score'])\n",
    "df['math_log']=np.log(df['math_score'])"
   ]
  },
  {
   "cell_type": "code",
   "execution_count": 8,
   "id": "adcbb8ad-b6ec-429f-854e-cfa5a2f8d5be",
   "metadata": {},
   "outputs": [
    {
     "data": {
      "text/html": [
       "<div>\n",
       "<style scoped>\n",
       "    .dataframe tbody tr th:only-of-type {\n",
       "        vertical-align: middle;\n",
       "    }\n",
       "\n",
       "    .dataframe tbody tr th {\n",
       "        vertical-align: top;\n",
       "    }\n",
       "\n",
       "    .dataframe thead th {\n",
       "        text-align: right;\n",
       "    }\n",
       "</style>\n",
       "<table border=\"1\" class=\"dataframe\">\n",
       "  <thead>\n",
       "    <tr style=\"text-align: right;\">\n",
       "      <th></th>\n",
       "      <th>id</th>\n",
       "      <th>phy_score</th>\n",
       "      <th>chem_score</th>\n",
       "      <th>math_score</th>\n",
       "      <th>phy_log</th>\n",
       "      <th>chem_log</th>\n",
       "      <th>math_log</th>\n",
       "    </tr>\n",
       "  </thead>\n",
       "  <tbody>\n",
       "    <tr>\n",
       "      <th>0</th>\n",
       "      <td>101</td>\n",
       "      <td>85</td>\n",
       "      <td>92.0</td>\n",
       "      <td>93</td>\n",
       "      <td>4.442651</td>\n",
       "      <td>4.521789</td>\n",
       "      <td>4.532599</td>\n",
       "    </tr>\n",
       "    <tr>\n",
       "      <th>1</th>\n",
       "      <td>102</td>\n",
       "      <td>72</td>\n",
       "      <td>68.0</td>\n",
       "      <td>86</td>\n",
       "      <td>4.276666</td>\n",
       "      <td>4.219508</td>\n",
       "      <td>4.454347</td>\n",
       "    </tr>\n",
       "    <tr>\n",
       "      <th>2</th>\n",
       "      <td>103</td>\n",
       "      <td>56</td>\n",
       "      <td>45.0</td>\n",
       "      <td>74</td>\n",
       "      <td>4.025352</td>\n",
       "      <td>3.806662</td>\n",
       "      <td>4.304065</td>\n",
       "    </tr>\n",
       "    <tr>\n",
       "      <th>3</th>\n",
       "      <td>104</td>\n",
       "      <td>84</td>\n",
       "      <td>87.0</td>\n",
       "      <td>88</td>\n",
       "      <td>4.430817</td>\n",
       "      <td>4.465908</td>\n",
       "      <td>4.477337</td>\n",
       "    </tr>\n",
       "    <tr>\n",
       "      <th>4</th>\n",
       "      <td>105</td>\n",
       "      <td>67</td>\n",
       "      <td>95.0</td>\n",
       "      <td>94</td>\n",
       "      <td>4.204693</td>\n",
       "      <td>4.553877</td>\n",
       "      <td>4.543295</td>\n",
       "    </tr>\n",
       "    <tr>\n",
       "      <th>6</th>\n",
       "      <td>107</td>\n",
       "      <td>78</td>\n",
       "      <td>83.0</td>\n",
       "      <td>85</td>\n",
       "      <td>4.356709</td>\n",
       "      <td>4.418841</td>\n",
       "      <td>4.442651</td>\n",
       "    </tr>\n",
       "    <tr>\n",
       "      <th>7</th>\n",
       "      <td>108</td>\n",
       "      <td>96</td>\n",
       "      <td>91.0</td>\n",
       "      <td>74</td>\n",
       "      <td>4.564348</td>\n",
       "      <td>4.510860</td>\n",
       "      <td>4.304065</td>\n",
       "    </tr>\n",
       "    <tr>\n",
       "      <th>8</th>\n",
       "      <td>109</td>\n",
       "      <td>45</td>\n",
       "      <td>73.0</td>\n",
       "      <td>95</td>\n",
       "      <td>3.806662</td>\n",
       "      <td>4.290459</td>\n",
       "      <td>4.553877</td>\n",
       "    </tr>\n",
       "    <tr>\n",
       "      <th>9</th>\n",
       "      <td>110</td>\n",
       "      <td>88</td>\n",
       "      <td>61.0</td>\n",
       "      <td>66</td>\n",
       "      <td>4.477337</td>\n",
       "      <td>4.110874</td>\n",
       "      <td>4.189655</td>\n",
       "    </tr>\n",
       "  </tbody>\n",
       "</table>\n",
       "</div>"
      ],
      "text/plain": [
       "    id  phy_score  chem_score  math_score   phy_log  chem_log  math_log\n",
       "0  101         85        92.0          93  4.442651  4.521789  4.532599\n",
       "1  102         72        68.0          86  4.276666  4.219508  4.454347\n",
       "2  103         56        45.0          74  4.025352  3.806662  4.304065\n",
       "3  104         84        87.0          88  4.430817  4.465908  4.477337\n",
       "4  105         67        95.0          94  4.204693  4.553877  4.543295\n",
       "6  107         78        83.0          85  4.356709  4.418841  4.442651\n",
       "7  108         96        91.0          74  4.564348  4.510860  4.304065\n",
       "8  109         45        73.0          95  3.806662  4.290459  4.553877\n",
       "9  110         88        61.0          66  4.477337  4.110874  4.189655"
      ]
     },
     "execution_count": 8,
     "metadata": {},
     "output_type": "execute_result"
    }
   ],
   "source": [
    "df"
   ]
  },
  {
   "cell_type": "code",
   "execution_count": null,
   "id": "2936c7f8-eb64-4b4d-b9b8-30b4ea2a5b88",
   "metadata": {},
   "outputs": [],
   "source": []
  }
 ],
 "metadata": {
  "kernelspec": {
   "display_name": "Python 3 (ipykernel)",
   "language": "python",
   "name": "python3"
  },
  "language_info": {
   "codemirror_mode": {
    "name": "ipython",
    "version": 3
   },
   "file_extension": ".py",
   "mimetype": "text/x-python",
   "name": "python",
   "nbconvert_exporter": "python",
   "pygments_lexer": "ipython3",
   "version": "3.11.7"
  }
 },
 "nbformat": 4,
 "nbformat_minor": 5
}
