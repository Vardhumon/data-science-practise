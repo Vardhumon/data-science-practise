{
 "cells": [
  {
   "cell_type": "markdown",
   "id": "fe3d8d54-0540-4b5c-8f19-2bc207cc083f",
   "metadata": {},
   "source": [
    "Text Analytics\n",
    "1. Extract Sample document and apply following document\n",
    "preprocessing methods: Tokenization, POS Tagging, stop words\n",
    "removal, Stemming and Lemmatization.\n",
    "2. Create representation of documents by calculating Term Frequency\n",
    "and Inverse Document Frequency."
   ]
  },
  {
   "cell_type": "code",
   "execution_count": 1,
   "id": "03948908-360a-4ec5-9db0-4f0f0a4d872c",
   "metadata": {},
   "outputs": [],
   "source": [
    "import nltk\n",
    "from nltk.tokenize import word_tokenize\n",
    "from nltk.corpus import stopwords\n",
    "from nltk.stem import PorterStemmer, WordNetLemmatizer\n",
    "from nltk import pos_tag\n",
    "import numpy as np"
   ]
  },
  {
   "cell_type": "code",
   "execution_count": 2,
   "id": "28dd5de6-4a8b-4b93-9af4-432aaa7f5c6e",
   "metadata": {},
   "outputs": [],
   "source": [
    "doc=\"\"\"Natural language processing (NLP) is the ability of a computer program to understand human language as it's spoken and written -- referred to as natural language. It's a component of artificial intelligence (AI).\n",
    "\n",
    "NLP has existed for more than 50 years and has roots in the field of linguistics. It has a variety of real-world applications in numerous fields, including medical research, search engines and business intelligence.\n",
    "\n",
    "NLP uses either rule-based or machine learning approaches to understand the structure and meaning of text. It plays a role in chatbots, voice assistants, text-based scanning programs, translation applications and enterprise software that aids in business operations, increases productivity and simplifies different processes.\n",
    "\n",
    "\"\"\""
   ]
  },
  {
   "cell_type": "code",
   "execution_count": 3,
   "id": "f13bc1cd-15f6-4c43-9054-c4c72ddeee90",
   "metadata": {},
   "outputs": [],
   "source": [
    "tokens=word_tokenize(doc)"
   ]
  },
  {
   "cell_type": "code",
   "execution_count": 4,
   "id": "399b6aae-591e-4121-be6c-4d359b5fb5cb",
   "metadata": {},
   "outputs": [],
   "source": [
    "pos=pos_tag(tokens)"
   ]
  },
  {
   "cell_type": "code",
   "execution_count": 5,
   "id": "0d30ef4b-3205-4487-9dfa-f0253c268380",
   "metadata": {},
   "outputs": [],
   "source": [
    "stp_words=set(stopwords.words('English'))\n",
    "filtered_tokens=[word for word in tokens if word.lower() not in stp_words]"
   ]
  },
  {
   "cell_type": "code",
   "execution_count": 6,
   "id": "cdf36242-4003-424c-b4cd-a50aa2ff0ce6",
   "metadata": {},
   "outputs": [],
   "source": [
    "stemmer=PorterStemmer()\n",
    "stemmed_tokens=[stemmer.stem(word) for word in filtered_tokens ]"
   ]
  },
  {
   "cell_type": "code",
   "execution_count": 7,
   "id": "c1d661f3-4c52-4a84-87dc-073201a2aa39",
   "metadata": {},
   "outputs": [],
   "source": [
    "Lemmatizer=WordNetLemmatizer()\n",
    "lemmatized_tokens=[Lemmatizer.lemmatize(word) for word in filtered_tokens]"
   ]
  },
  {
   "cell_type": "code",
   "execution_count": 8,
   "id": "54b9ecd0-3af4-4950-99d0-56bef1bd0427",
   "metadata": {},
   "outputs": [
    {
     "data": {
      "text/plain": [
       "['Natural',\n",
       " 'language',\n",
       " 'processing',\n",
       " '(',\n",
       " 'NLP',\n",
       " ')',\n",
       " 'ability',\n",
       " 'computer',\n",
       " 'program',\n",
       " 'understand',\n",
       " 'human',\n",
       " 'language',\n",
       " \"'s\",\n",
       " 'spoken',\n",
       " 'written',\n",
       " '--',\n",
       " 'referred',\n",
       " 'natural',\n",
       " 'language',\n",
       " '.',\n",
       " \"'s\",\n",
       " 'component',\n",
       " 'artificial',\n",
       " 'intelligence',\n",
       " '(',\n",
       " 'AI',\n",
       " ')',\n",
       " '.',\n",
       " 'NLP',\n",
       " 'existed',\n",
       " '50',\n",
       " 'year',\n",
       " 'root',\n",
       " 'field',\n",
       " 'linguistics',\n",
       " '.',\n",
       " 'variety',\n",
       " 'real-world',\n",
       " 'application',\n",
       " 'numerous',\n",
       " 'field',\n",
       " ',',\n",
       " 'including',\n",
       " 'medical',\n",
       " 'research',\n",
       " ',',\n",
       " 'search',\n",
       " 'engine',\n",
       " 'business',\n",
       " 'intelligence',\n",
       " '.',\n",
       " 'NLP',\n",
       " 'us',\n",
       " 'either',\n",
       " 'rule-based',\n",
       " 'machine',\n",
       " 'learning',\n",
       " 'approach',\n",
       " 'understand',\n",
       " 'structure',\n",
       " 'meaning',\n",
       " 'text',\n",
       " '.',\n",
       " 'play',\n",
       " 'role',\n",
       " 'chatbots',\n",
       " ',',\n",
       " 'voice',\n",
       " 'assistant',\n",
       " ',',\n",
       " 'text-based',\n",
       " 'scanning',\n",
       " 'program',\n",
       " ',',\n",
       " 'translation',\n",
       " 'application',\n",
       " 'enterprise',\n",
       " 'software',\n",
       " 'aid',\n",
       " 'business',\n",
       " 'operation',\n",
       " ',',\n",
       " 'increase',\n",
       " 'productivity',\n",
       " 'simplifies',\n",
       " 'different',\n",
       " 'process',\n",
       " '.']"
      ]
     },
     "execution_count": 8,
     "metadata": {},
     "output_type": "execute_result"
    }
   ],
   "source": [
    "lemmatized_tokens"
   ]
  },
  {
   "cell_type": "code",
   "execution_count": 9,
   "id": "886a983f-d71c-42d8-a141-c5588145c581",
   "metadata": {},
   "outputs": [],
   "source": [
    "def calculate_tf(word,document):\n",
    "    tokens=word_tokenize(document)\n",
    "    return tokens.count(word)/len(tokens)"
   ]
  },
  {
   "cell_type": "code",
   "execution_count": 13,
   "id": "c7ca88f5-a04f-4d81-abc8-2b0612ab94e6",
   "metadata": {},
   "outputs": [],
   "source": [
    "def calculate_df(word,documents):\n",
    "    df=0\n",
    "    for doc in documents:\n",
    "        if calculate_tf(word,doc)> 0:\n",
    "            df+=1\n",
    "    return df"
   ]
  },
  {
   "cell_type": "code",
   "execution_count": 16,
   "id": "e1667cfe-1aad-484b-a548-dc2fff42fa32",
   "metadata": {},
   "outputs": [],
   "source": [
    "def tf_idf(word,document,documents):\n",
    "    tf=calculate_tf(word,document)\n",
    "    df=calculate_df(word,documents)\n",
    "    idf=1 + np.log(len(documents)/(df+1))\n",
    "    return tf*idf"
   ]
  },
  {
   "cell_type": "code",
   "execution_count": 17,
   "id": "3758a5ec-707b-49d7-8421-54ead175978a",
   "metadata": {},
   "outputs": [
    {
     "name": "stdout",
     "output_type": "stream",
     "text": [
      "Term Frequency : 0.03125\n",
      "Document Frequency : 1\n",
      "tf-idf :  0.00958915060750171\n"
     ]
    }
   ],
   "source": [
    "documents=[doc]\n",
    "word=\"in\"\n",
    "print(\"Term Frequency :\",calculate_tf(word,doc))\n",
    "print(\"Document Frequency :\",calculate_df(word,documents))\n",
    "print(\"tf-idf : \",tf_idf(word,doc,documents))"
   ]
  },
  {
   "cell_type": "code",
   "execution_count": null,
   "id": "3bea5c77-dc44-4a3c-9936-ab0f2e614449",
   "metadata": {},
   "outputs": [],
   "source": []
  }
 ],
 "metadata": {
  "kernelspec": {
   "display_name": "Python 3 (ipykernel)",
   "language": "python",
   "name": "python3"
  },
  "language_info": {
   "codemirror_mode": {
    "name": "ipython",
    "version": 3
   },
   "file_extension": ".py",
   "mimetype": "text/x-python",
   "name": "python",
   "nbconvert_exporter": "python",
   "pygments_lexer": "ipython3",
   "version": "3.11.7"
  }
 },
 "nbformat": 4,
 "nbformat_minor": 5
}
