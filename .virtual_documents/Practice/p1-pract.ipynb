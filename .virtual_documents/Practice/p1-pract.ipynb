import pandas as pd
import numpy as np


df=pd.read_csv('Titanic-Dataset-p1.csv')


df


df.isnull().sum()


df.describe()


df.dtypes


df.shape


df['Sex'].replace(['male', 'female'],[0, 1], inplace=True)


df['Sex']



