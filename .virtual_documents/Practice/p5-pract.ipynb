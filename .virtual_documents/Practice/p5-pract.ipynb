


import pandas as pd
import numpy as np
from sklearn.model_selection import train_test_split
from sklearn.linear_model import LogisticRegression
from sklearn.metrics import confusion_matrix,accuracy_score,precision_score,recall_score,f1_score
from sklearn.preprocessing import StandardScaler


df=pd.read_csv('Social_Network_Ads-p5.csv')


df


df.info()


X=df.iloc[:,[2,3]].values
y=np.array(df['Purchased'])


X_train,X_test,y_train,y_test=train_test_split(X,y, test_size=0.25, random_state=0)


model=LogisticRegression()


sc=StandardScaler()
X_train=sc.fit_transform(X_train)
X_test=sc.transform(X_test)


model.fit(X_train,y_train)


y_pred= model.predict(X_test)


conf_mat=confusion_matrix(y_pred,y_test)


TP=conf_mat[0,0]
TN=conf_mat[1,1]
FP=conf_mat[0,1]
FN=conf_mat[1,0]


print(TP)
print(TN)
print(FP)
print(FN)


acc=accuracy_score(y_test,y_pred)
acc


error=1-acc
error


prec=precision_score(y_test,y_pred)
prec


rec=recall_score(y_test,y_pred)
rec


f1=f1_score(y_test,y_pred)
f1



