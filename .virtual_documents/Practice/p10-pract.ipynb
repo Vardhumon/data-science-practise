


import pandas as pd
import numpy as np
import seaborn as sns
import matplotlib.pyplot as plt


df=pd.read_csv('iris-p3b.csv')


df


df.info()


for col in df.columns[1:-1]:
    plt.title(f"{col} Distribution")
    plt.hist(df[col],fill=False)
    plt.show()


for col in df.columns[1:-1]:
    plt.title(f"{col} Distribution")
    sns.boxplot(df[col])
    plt.show()


print('Outliers : ')
for feature in df.columns[1:-1]:
    Q1=df[feature].quantile(0.25)
    Q3=df[feature].quantile(0.75)
    IQR=Q3-Q1
    lower_bound=Q1 - 1.5*IQR
    upper_bound=Q3 + 1.5*IQR
    outliers=df[(df[feature]<lower_bound) | (df[feature]>upper_bound)]
    if(len(outliers)>0):
        print(f"{feature} : {len(outliers)} Outliers")




