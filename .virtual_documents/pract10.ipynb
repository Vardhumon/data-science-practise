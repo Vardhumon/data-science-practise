import pandas as pd
import seaborn as sns
import matplotlib.pyplot as plt


iris_df=pd.read_csv("Iris-p3b.csv")


print("Features and their types:")
print(iris_df.dtypes)


# Function to create histograms for each feature
def plot_histograms(data):
  for col in data.columns[1:-1]:  # Exclude the 'Species' column
    plt.xlabel(col)
    plt.ylabel('Frequency')
    plt.title(f'{col} Distribution')
    plt.hist(data[col],fill=False,edgecolor='blue')
    # sns.histplot(data[col],kde=True, color='skyblue') /Seaborn plot
    plt.show()

plot_histograms(iris_df)


# Function to create boxplots for each feature
def plot_boxplots(data):
  for col in data.columns[1:-1]:  # Exclude the 'Species' column
    sns.boxplot(data[col])
    plt.xlabel(col)
    plt.ylabel('Frequency')
    plt.title(f'{col} Distribution')
    plt.show()
plot_boxplots(iris_df)


print("Outliers:")
for feature in iris_df.columns[1:-1]:
    Q1 = iris_df[feature].quantile(0.25)
    Q3 = iris_df[feature].quantile(0.75)
    IQR = Q3 - Q1
    lower_bound = Q1 - 1.5 * IQR
    upper_bound = Q3 + 1.5 * IQR
    outliers = iris_df[(iris_df[feature] < lower_bound) | (iris_df[feature] > upper_bound)]
    if len(outliers) > 0:
        print(f"{feature}: {len(outliers)} outliers")
        



