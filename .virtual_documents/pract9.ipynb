import seaborn as sns
import matplotlib.pyplot as plt


df=sns.load_dataset('titanic')
df


sns.boxplot(x='sex',y='age',hue='survived',data=df)




