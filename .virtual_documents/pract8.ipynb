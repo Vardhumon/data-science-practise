import seaborn as sns
import matplotlib.pyplot as plt
%matplotlib inline


# Load the Titanic dataset from Seaborn
titanic_data = sns.load_dataset("titanic")


titanic_data.head()


# Plot a histogram to visualize the distribution of ticket prices (fare)
plt.figure(figsize=(8, 4))
# sns.histplot(titanic_data['fare'], bins=20, kde=True, color='skyblue')
plt.hist(titanic_data['fare'],color='skyblue',edgecolor='blue',bins=20)
plt.title('Distribution of Ticket Prices (Fare)')
plt.xlabel('Fare')
plt.ylabel('Frequency')
plt.show()


sns.set_theme(style="whitegrid")


# Plot the count of passengers by sex
plt.figure(figsize=(8, 5))
sns.countplot(x='sex', data=titanic_data, palette='pastel')
plt.title('Passenger Count by Sex')
plt.xlabel('Sex')
plt.ylabel('Count')
plt.show()


# Plot the count of passengers by class
plt.figure(figsize=(8, 5))
sns.countplot(x='class', data=titanic_data, palette='pastel', order=['First', 'Second', 'Third'])
plt.title('Passenger Count by Class')
plt.xlabel('Class')
plt.ylabel('Count')
plt.show()






